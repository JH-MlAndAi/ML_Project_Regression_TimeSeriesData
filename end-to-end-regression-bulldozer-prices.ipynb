{
 "cells": [
  {
   "cell_type": "markdown",
   "id": "c542f2a0",
   "metadata": {},
   "source": [
    "# Predicting the Sale Prices of Bulldozers using Machine Learning\n",
    "\n",
    "Machine learning Project (Regression) with the goal of predicting the sale prices of bulldozers.\n",
    "\n",
    "## 1. Problem definition\n",
    "\n",
    "> Predicting the future sale prices of Bulldozers, with information of past bulldozer sales with similar characteristics. How precise are these predictions?\n",
    "\n",
    "\n",
    "## 2. Data\n",
    "\n",
    "The Data is downloaded from Kaggle Bluebook for Bulldozers competition. \n",
    "https://www.kaggle.com/competitions/bluebook-for-bulldozers/overview\n",
    "\n",
    "\n",
    "Main datasets:\n",
    "* Train.csv is the training set, which contains data through the end of 2011.\n",
    "* Valid.csv is the validation set, which contains data from January 1, 2012 - April 30, 2012 You make predictions on this set throughout the majority of the competition. Your score on this set is used to create the public leaderboard.\n",
    "* Test.csv is the test set, which won't be released until the last week of the competition. It contains data from May 1, 2012 - November 2012. Your score on the test set determines your final rank for the competition.\n",
    "\n",
    "\n",
    "## 3. Evaluation\n",
    "\n",
    "The evaluation metric for this competition is the RMSLE (root mean squared log error) between the actual and predicted auction prices.\n",
    "\n",
    "Exact info: https://www.kaggle.com/competitions/bluebook-for-bulldozers/overview/evaluation\n",
    "\n",
    "\n",
    "## 4. Features\n",
    "\n",
    "Data dictionary with detailed features of the dataset can be downloaded at kaggle.com (account required) (https://www.kaggle.com/competitions/bluebook-for-bulldozers/data) "
   ]
  },
  {
   "cell_type": "code",
   "execution_count": 1,
   "id": "260277eb",
   "metadata": {},
   "outputs": [],
   "source": [
    "import numpy as np\n",
    "import pandas as pd\n",
    "import matplotlib.pyplot as plt\n",
    "import sklearn"
   ]
  },
  {
   "cell_type": "code",
   "execution_count": null,
   "id": "25e0a1a4",
   "metadata": {},
   "outputs": [],
   "source": []
  }
 ],
 "metadata": {
  "kernelspec": {
   "display_name": "Python 3 (ipykernel)",
   "language": "python",
   "name": "python3"
  },
  "language_info": {
   "codemirror_mode": {
    "name": "ipython",
    "version": 3
   },
   "file_extension": ".py",
   "mimetype": "text/x-python",
   "name": "python",
   "nbconvert_exporter": "python",
   "pygments_lexer": "ipython3",
   "version": "3.10.6"
  }
 },
 "nbformat": 4,
 "nbformat_minor": 5
}
